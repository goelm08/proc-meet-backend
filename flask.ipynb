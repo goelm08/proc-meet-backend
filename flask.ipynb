{
 "cells": [
  {
   "cell_type": "code",
   "execution_count": 1,
   "metadata": {
    "collapsed": true
   },
   "outputs": [
    {
     "data": {
      "text/plain": "CompletedProcess(args=['ffmpeg', '-i', 'recording.webm', 'audio.wav'], returncode=0)"
     },
     "execution_count": 1,
     "metadata": {},
     "output_type": "execute_result"
    }
   ],
   "source": [
    "import subprocess\n",
    "\n",
    "# Extract frames\n",
    "subprocess.run(['ffmpeg', '-i', 'recording.webm', 'frames/%04d.png'])\n",
    "\n",
    "# Extract audio\n",
    "subprocess.run(['ffmpeg', '-i', 'recording.webm', 'audio.wav'])"
   ]
  },
  {
   "cell_type": "code",
   "execution_count": 1,
   "outputs": [
    {
     "name": "stdout",
     "output_type": "stream",
     "text": [
      "hello hello hello how are you how are you checking the audio video transmission\n"
     ]
    },
    {
     "data": {
      "text/plain": "False"
     },
     "execution_count": 1,
     "metadata": {},
     "output_type": "execute_result"
    }
   ],
   "source": [
    "from audioCheck import check_profanity_audio\n",
    "\n",
    "check_profanity_audio('recording.webm')"
   ],
   "metadata": {
    "collapsed": false
   }
  },
  {
   "cell_type": "code",
   "execution_count": 17,
   "outputs": [
    {
     "name": "stdout",
     "output_type": "stream",
     "text": [
      "frames\\frame-0001.png\n",
      "frames\\frame-0001.png size: (299, 299)\n",
      "1/1 [==============================] - 2s 2s/step\n",
      "frames\\frame-0002.png\n",
      "frames\\frame-0002.png size: (299, 299)\n",
      "1/1 [==============================] - 0s 103ms/step\n",
      "frames\\frame-0003.png\n",
      "frames\\frame-0003.png size: (299, 299)\n",
      "1/1 [==============================] - 0s 115ms/step\n",
      "frames\\frame-0004.png\n",
      "frames\\frame-0004.png size: (299, 299)\n",
      "1/1 [==============================] - 0s 108ms/step\n",
      "frames\\frame-0005.png\n",
      "frames\\frame-0005.png size: (299, 299)\n",
      "1/1 [==============================] - 0s 99ms/step\n",
      "frames\\frame-0006.png\n",
      "frames\\frame-0006.png size: (299, 299)\n",
      "1/1 [==============================] - 0s 99ms/step\n",
      "frames\\frame-0007.png\n",
      "frames\\frame-0007.png size: (299, 299)\n",
      "1/1 [==============================] - 0s 109ms/step\n",
      "frames\\frame-0008.png\n",
      "frames\\frame-0008.png size: (299, 299)\n",
      "1/1 [==============================] - 0s 118ms/step\n",
      "frames\\frame-0009.png\n",
      "frames\\frame-0009.png size: (299, 299)\n",
      "1/1 [==============================] - 0s 273ms/step\n",
      "frames\\frame-0010.png\n",
      "frames\\frame-0010.png size: (299, 299)\n",
      "1/1 [==============================] - 0s 104ms/step\n",
      "frames\\frame-0011.png\n",
      "frames\\frame-0011.png size: (299, 299)\n",
      "1/1 [==============================] - 0s 110ms/step\n",
      "frames\\frame-0012.png\n",
      "frames\\frame-0012.png size: (299, 299)\n",
      "1/1 [==============================] - 0s 94ms/step\n",
      "frames\\frame-0013.png\n",
      "frames\\frame-0013.png size: (299, 299)\n",
      "1/1 [==============================] - 0s 102ms/step\n",
      "frames\\frame-0014.png\n",
      "frames\\frame-0014.png size: (299, 299)\n",
      "1/1 [==============================] - 0s 110ms/step\n",
      "frames\\frame-0015.png\n",
      "frames\\frame-0015.png size: (299, 299)\n",
      "1/1 [==============================] - 0s 120ms/step\n",
      "frames\\frame-0016.png\n",
      "frames\\frame-0016.png size: (299, 299)\n",
      "1/1 [==============================] - 0s 122ms/step\n",
      "frames\\frame-0017.png\n",
      "frames\\frame-0017.png size: (299, 299)\n",
      "1/1 [==============================] - 0s 107ms/step\n",
      "frames\\frame-0018.png\n",
      "frames\\frame-0018.png size: (299, 299)\n",
      "1/1 [==============================] - 0s 95ms/step\n",
      "frames\\frame-0019.png\n",
      "frames\\frame-0019.png size: (299, 299)\n",
      "1/1 [==============================] - 0s 94ms/step\n",
      "frames\\frame-0020.png\n",
      "frames\\frame-0020.png size: (299, 299)\n",
      "1/1 [==============================] - 0s 99ms/step\n",
      "frames\\frame-0021.png\n",
      "frames\\frame-0021.png size: (299, 299)\n",
      "1/1 [==============================] - 0s 106ms/step\n",
      "frames\\frame-0022.png\n",
      "frames\\frame-0022.png size: (299, 299)\n",
      "1/1 [==============================] - 0s 94ms/step\n",
      "frames\\frame-0023.png\n",
      "frames\\frame-0023.png size: (299, 299)\n",
      "1/1 [==============================] - 0s 99ms/step\n",
      "frames\\frame-0024.png\n",
      "frames\\frame-0024.png size: (299, 299)\n",
      "1/1 [==============================] - 0s 104ms/step\n"
     ]
    },
    {
     "data": {
      "text/plain": "False"
     },
     "execution_count": 17,
     "metadata": {},
     "output_type": "execute_result"
    }
   ],
   "source": [
    "import os\n",
    "import subprocess\n",
    "from nsfw_detector import predict\n",
    "nsfw_model = predict.load_model(r\"C:\\Users\\goelm\\Downloads\\february_2019_nsfw.299x299.h5\")\n",
    "\n",
    "def extract_frames(video_path, output_dir, num_frames=5):\n",
    "    # Create the output directory, if it doesn't exist\n",
    "    if not os.path.exists(output_dir):\n",
    "        os.makedirs(output_dir)\n",
    "\n",
    "    subprocess.run(['ffmpeg', '-i', video_path, '-vf', 'fps='+str(num_frames), f'{output_dir}/frame-%04d.png'])\n",
    "\n",
    "def check_neut(result, fileName):\n",
    "    if(result[fileName]['hentai']>0.6 or result[fileName]['porn']>0.6 or result[fileName]['sexy']>0.6):\n",
    "        return True\n",
    "    else:\n",
    "        return False\n",
    "\n",
    "def process_frames(frames_dir):\n",
    "    for filename in os.listdir(frames_dir):\n",
    "        if filename.endswith('.png'):\n",
    "            frame_path = os.path.join(frames_dir, filename)\n",
    "            if check_neut(predict.classify(nsfw_model, frame_path, 299), frame_path):\n",
    "                os.remove(frame_path)\n",
    "                return True\n",
    "            os.remove(frame_path)\n",
    "    return False\n",
    "# Example usage\n",
    "video_path = 'recording.webm'\n",
    "output_dir = 'frames'\n",
    "\n",
    "extract_frames(video_path, output_dir)\n",
    "process_frames(output_dir)\n"
   ],
   "metadata": {
    "collapsed": false
   }
  },
  {
   "cell_type": "code",
   "execution_count": 15,
   "outputs": [
    {
     "name": "stdout",
     "output_type": "stream",
     "text": [
      "frames/frame-0004.png size: (299, 299)\n",
      "1/1 [==============================] - 0s 97ms/step\n"
     ]
    },
    {
     "data": {
      "text/plain": "True"
     },
     "execution_count": 15,
     "metadata": {},
     "output_type": "execute_result"
    }
   ],
   "source": [
    "check_neut(predict.classify(nsfw_model, 'frames/frame-0004.png', 299), 'frames/frame-0004.png')"
   ],
   "metadata": {
    "collapsed": false
   }
  },
  {
   "cell_type": "code",
   "execution_count": 16,
   "outputs": [
    {
     "name": "stdout",
     "output_type": "stream",
     "text": [
      "frames/frame-0004.png size: (299, 299)\n",
      "1/1 [==============================] - 0s 95ms/step\n"
     ]
    },
    {
     "data": {
      "text/plain": "{'frames/frame-0004.png': {'drawings': 0.005543379578739405,\n  'hentai': 0.00807195995002985,\n  'neutral': 0.34697386622428894,\n  'porn': 0.5955796837806702,\n  'sexy': 0.043831054121255875}}"
     },
     "execution_count": 16,
     "metadata": {},
     "output_type": "execute_result"
    }
   ],
   "source": [
    "predict.classify(nsfw_model, 'frames/frame-0004.png', 299)"
   ],
   "metadata": {
    "collapsed": false
   }
  },
  {
   "cell_type": "code",
   "execution_count": 16,
   "outputs": [
    {
     "name": "stdout",
     "output_type": "stream",
     "text": [
      "Gun Detected: True\n"
     ]
    }
   ],
   "source": [
    "import cv2\n",
    "watch_cascade=cv2.CascadeClassifier(r'cascade.xml')\n",
    "def check_gun():\n",
    "    img = cv2.imread('def.jpg')\n",
    "    # img = cv2.imread('framesd.png')\n",
    "    gray = cv2.cvtColor(img, cv2.COLOR_BGR2GRAY)\n",
    "\n",
    "    # Perform object detection\n",
    "    watches = watch_cascade.detectMultiScale(gray, 1.3, 15, minSize = (100,100))\n",
    "    for (x, y, w, h) in watches:\n",
    "        cv2.rectangle(img, (x, y), (x+w, y+h), (255, 0, 0), 2)\n",
    "\n",
    "    # # Display the image with detected objects\n",
    "    # cv2.imshow('img', img)\n",
    "    # cv2.waitKey(0)  # Wait until a key is pressed\n",
    "    # cv2.destroyAllWindows()\n",
    "\n",
    "    # Check if a gun is displayed\n",
    "    return len(watches) > 0\n",
    "\n",
    "gun_detected = check_gun()\n",
    "print('Gun Detected:', gun_detected)\n"
   ],
   "metadata": {
    "collapsed": false
   }
  },
  {
   "cell_type": "code",
   "execution_count": 1,
   "outputs": [
    {
     "name": "stdout",
     "output_type": "stream",
     "text": [
      "recording\\frame-0001.png size: (299, 299)\n",
      "1/1 [==============================] - 1s 1s/step\n",
      "recording\\frame-0002.png size: (299, 299)\n",
      "1/1 [==============================] - 0s 75ms/step\n",
      "recording\\frame-0003.png size: (299, 299)\n",
      "1/1 [==============================] - 0s 77ms/step\n",
      "recording\\frame-0004.png size: (299, 299)\n",
      "1/1 [==============================] - 0s 78ms/step\n",
      "recording\\frame-0005.png size: (299, 299)\n",
      "1/1 [==============================] - 0s 76ms/step\n",
      "recording\\frame-0006.png size: (299, 299)\n",
      "1/1 [==============================] - 0s 93ms/step\n",
      "recording\\frame-0007.png size: (299, 299)\n",
      "1/1 [==============================] - 0s 89ms/step\n",
      "recording\\frame-0008.png size: (299, 299)\n",
      "1/1 [==============================] - 0s 80ms/step\n",
      "recording\\frame-0009.png size: (299, 299)\n",
      "1/1 [==============================] - 0s 73ms/step\n",
      "recording\\frame-0010.png size: (299, 299)\n",
      "1/1 [==============================] - 0s 77ms/step\n",
      "recording\\frame-0011.png size: (299, 299)\n",
      "1/1 [==============================] - 0s 79ms/step\n",
      "recording\\frame-0012.png size: (299, 299)\n",
      "1/1 [==============================] - 0s 77ms/step\n",
      "recording\\frame-0013.png size: (299, 299)\n",
      "1/1 [==============================] - 0s 75ms/step\n",
      "recording\\frame-0014.png size: (299, 299)\n",
      "1/1 [==============================] - 0s 78ms/step\n",
      "recording\\frame-0015.png size: (299, 299)\n",
      "1/1 [==============================] - 0s 80ms/step\n",
      "recording\\frame-0016.png size: (299, 299)\n",
      "1/1 [==============================] - 0s 80ms/step\n",
      "recording\\frame-0017.png size: (299, 299)\n",
      "1/1 [==============================] - 0s 90ms/step\n",
      "recording\\frame-0018.png size: (299, 299)\n",
      "1/1 [==============================] - 0s 94ms/step\n",
      "recording\\frame-0019.png size: (299, 299)\n",
      "1/1 [==============================] - 0s 72ms/step\n",
      "recording\\frame-0020.png size: (299, 299)\n",
      "1/1 [==============================] - 0s 80ms/step\n",
      "recording\\frame-0021.png size: (299, 299)\n",
      "1/1 [==============================] - 0s 76ms/step\n",
      "recording\\frame-0022.png size: (299, 299)\n",
      "1/1 [==============================] - 0s 80ms/step\n",
      "recording\\frame-0023.png size: (299, 299)\n",
      "1/1 [==============================] - 0s 76ms/step\n",
      "recording\\frame-0024.png size: (299, 299)\n",
      "1/1 [==============================] - 0s 77ms/step\n"
     ]
    },
    {
     "data": {
      "text/plain": "False"
     },
     "execution_count": 1,
     "metadata": {},
     "output_type": "execute_result"
    }
   ],
   "source": [
    "from videoCheck import check_profanity_video\n",
    "check_profanity_video('recording.webm')"
   ],
   "metadata": {
    "collapsed": false
   }
  },
  {
   "cell_type": "code",
   "execution_count": 2,
   "outputs": [
    {
     "name": "stdout",
     "output_type": "stream",
     "text": [
      "C:\\Users\\goelm\\PycharmProjects\\pythonProject\\recording\\frame-0012.png size: (299, 299)\n",
      "1/1 [==============================] - 0s 75ms/step\n",
      "{'C:\\\\Users\\\\goelm\\\\PycharmProjects\\\\pythonProject\\\\recording\\\\frame-0012.png': {'drawings': 0.0107114901766181, 'hentai': 0.003925930242985487, 'neutral': 0.6883825659751892, 'porn': 0.2604098618030548, 'sexy': 0.03657011315226555}}\n",
      "False\n"
     ]
    }
   ],
   "source": [
    "from videoCheck import *\n",
    "print(predict.classify(nsfw_model, r\"C:\\Users\\goelm\\PycharmProjects\\pythonProject\\recording\\frame-0012.png\", 299))\n",
    "print(check_gun(r\"C:\\Users\\goelm\\PycharmProjects\\pythonProject\\recording\\frame-0012.png\"))"
   ],
   "metadata": {
    "collapsed": false
   }
  },
  {
   "cell_type": "code",
   "execution_count": null,
   "outputs": [],
   "source": [],
   "metadata": {
    "collapsed": false
   }
  }
 ],
 "metadata": {
  "kernelspec": {
   "display_name": "Python 3",
   "language": "python",
   "name": "python3"
  },
  "language_info": {
   "codemirror_mode": {
    "name": "ipython",
    "version": 2
   },
   "file_extension": ".py",
   "mimetype": "text/x-python",
   "name": "python",
   "nbconvert_exporter": "python",
   "pygments_lexer": "ipython2",
   "version": "2.7.6"
  }
 },
 "nbformat": 4,
 "nbformat_minor": 0
}
